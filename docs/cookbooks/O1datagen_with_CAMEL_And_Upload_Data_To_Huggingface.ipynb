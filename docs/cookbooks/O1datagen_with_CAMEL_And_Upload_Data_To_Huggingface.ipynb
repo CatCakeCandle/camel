{
  "cells": [
    {
      "cell_type": "markdown",
      "id": "d80bea45",
      "metadata": {
        "id": "d80bea45"
      },
      "source": [
        "# O1datagen with CAMEL  And Upload Data To Huggingface"
      ]
    },
    {
      "cell_type": "markdown",
      "source": [
        "You can also check this cookbook in colab [here](https://colab.research.google.com/drive/1BEX7JQ7qtidy4W0glHh7cTZQksisM0C7?usp=sharing)  (Use the colab share link)"
      ],
      "metadata": {
        "id": "MgAnJZTCCNDl"
      },
      "id": "MgAnJZTCCNDl"
    },
    {
      "cell_type": "markdown",
      "source": [
        "\n",
        "\n",
        "This notebook demonstrates how to set up and leverage CAMEL's **O1DataGenerator** for generating high-quality question-answer pairs like o1 thinking data, uploading the data to Hugging Face.\n",
        "\n",
        "In this notebook, you'll explore:\n",
        "\n",
        "- **CAMEL**: A powerful multi-agent framework that enables Retrieval-Augmented Generation and multi-agent role-playing scenarios, allowing for sophisticated AI-driven tasks.\n",
        "- **O1DataGenerator**: A tool for generating like o1 thinking data.\n",
        "\n",
        "- **Hugging Face Integration**: Uploading datasets  to the Hugging Face platform for sharing\n"
      ],
      "metadata": {
        "id": "RiZXE5RDB8tu"
      },
      "id": "RiZXE5RDB8tu"
    },
    {
      "cell_type": "markdown",
      "source": [
        "⭐ **Star the Repo**\n",
        "\n",
        "If you find CAMEL useful or interesting, please consider giving it a star on our [CAMEL GitHub Repo](https://github.com/camel-ai/camel)! Your stars help others find this project and motivate us to continue improving it."
      ],
      "metadata": {
        "id": "EnupE_558wFh"
      },
      "id": "EnupE_558wFh"
    },
    {
      "cell_type": "markdown",
      "source": [
        "### o1datagen"
      ],
      "metadata": {
        "id": "X43F2AAszNuE"
      },
      "id": "X43F2AAszNuE"
    },
    {
      "cell_type": "code",
      "execution_count": null,
      "id": "87b853af",
      "metadata": {
        "id": "87b853af"
      },
      "outputs": [],
      "source": [
        "%%capture\n",
        "!pip install camel-ai==0.2.15a0"
      ]
    },
    {
      "cell_type": "code",
      "execution_count": null,
      "id": "b77fd525",
      "metadata": {
        "lines_to_next_cell": 2,
        "id": "b77fd525"
      },
      "outputs": [],
      "source": [
        "import os\n",
        "from datetime import datetime\n",
        "import json\n",
        "from camel.datagen.o1datagen import O1DataGenerator"
      ]
    },
    {
      "cell_type": "markdown",
      "id": "a382a3a8",
      "metadata": {
        "id": "a382a3a8"
      },
      "source": [
        "### First we will set the OPENAI_API_KEY that will be used to generate the data."
      ]
    },
    {
      "cell_type": "code",
      "execution_count": null,
      "id": "5e59f61c",
      "metadata": {
        "lines_to_next_cell": 2,
        "id": "5e59f61c"
      },
      "outputs": [],
      "source": [
        "from getpass import getpass"
      ]
    },
    {
      "cell_type": "code",
      "execution_count": null,
      "id": "c90eae14",
      "metadata": {
        "lines_to_next_cell": 2,
        "id": "c90eae14",
        "colab": {
          "base_uri": "https://localhost:8080/"
        },
        "outputId": "84194392-53b4-4753-865a-5e85ceb1203a"
      },
      "outputs": [
        {
          "name": "stdout",
          "output_type": "stream",
          "text": [
            "Enter your OpenAI API key: ··········\n"
          ]
        }
      ],
      "source": [
        "openai_api_key = getpass('Enter your OpenAI API key: ')\n",
        "os.environ[\"OPENAI_API_KEY\"] = openai_api_key"
      ]
    },
    {
      "cell_type": "markdown",
      "id": "bd726b2a",
      "metadata": {
        "id": "bd726b2a"
      },
      "source": [
        "### Create a system message to define agent's default role and behaviors."
      ]
    },
    {
      "cell_type": "code",
      "execution_count": null,
      "id": "a768c2af",
      "metadata": {
        "lines_to_next_cell": 2,
        "id": "a768c2af"
      },
      "outputs": [],
      "source": [
        "sys_msg = 'You are a genius at slow-thinking data and code'"
      ]
    },
    {
      "cell_type": "markdown",
      "id": "f0f39ad6",
      "metadata": {
        "lines_to_next_cell": 2,
        "id": "f0f39ad6"
      },
      "source": [
        "### Use ModelFactory to set up the backend model for agent, for more detailed model settings"
      ]
    },
    {
      "cell_type": "code",
      "execution_count": null,
      "id": "662e2f69",
      "metadata": {
        "id": "662e2f69"
      },
      "outputs": [],
      "source": [
        "from camel.models import ModelFactory\n",
        "from camel.types import ModelPlatformType, ModelType\n",
        "from camel.configs import ChatGPTConfig"
      ]
    },
    {
      "cell_type": "code",
      "execution_count": null,
      "id": "108da101",
      "metadata": {
        "id": "108da101"
      },
      "outputs": [],
      "source": [
        "# Define the model, here in this case we use gpt-4o-mini\n",
        "model = ModelFactory.create(\n",
        "    model_platform=ModelPlatformType.OPENAI,\n",
        "    model_type=ModelType.GPT_4O_MINI,\n",
        "    model_config_dict=ChatGPTConfig().as_dict(), # [Optional] the config for model\n",
        ")"
      ]
    },
    {
      "cell_type": "markdown",
      "id": "a694a77f",
      "metadata": {
        "id": "a694a77f"
      },
      "source": [
        "Initialize AI model by OPENAI_COMPATIBLE_MODEL"
      ]
    },
    {
      "cell_type": "markdown",
      "id": "aecd3b42",
      "metadata": {
        "id": "aecd3b42"
      },
      "source": [
        "### Set ChatAgent"
      ]
    },
    {
      "cell_type": "code",
      "execution_count": null,
      "id": "946b410d",
      "metadata": {
        "lines_to_next_cell": 2,
        "id": "946b410d"
      },
      "outputs": [],
      "source": [
        "from camel.agents import ChatAgent\n",
        "chat_agent = ChatAgent(\n",
        "    system_message=sys_msg,\n",
        "    model=model,\n",
        "    message_window_size=10,\n",
        ")"
      ]
    },
    {
      "cell_type": "markdown",
      "id": "ed4208d6",
      "metadata": {
        "lines_to_next_cell": 2,
        "id": "ed4208d6"
      },
      "source": [
        "### Load Q&A data from a JSON file"
      ]
    },
    {
      "cell_type": "markdown",
      "id": "64e2b2cd",
      "metadata": {
        "id": "64e2b2cd"
      },
      "source": [
        "### please prepare the qa data like below in json file:\n",
        "\n",
        "'''\n",
        "{\n",
        "    \"question1\": \"answer1\",\n",
        "    \"question2\": \"answer2\",\n",
        "    ...\n",
        "}\n",
        "'''"
      ]
    },
    {
      "cell_type": "code",
      "source": [
        "!pwd"
      ],
      "metadata": {
        "colab": {
          "base_uri": "https://localhost:8080/"
        },
        "id": "0XuYttZgwupa",
        "outputId": "9efa23c7-88a9-4a3d-caf6-ae08863fc640"
      },
      "id": "0XuYttZgwupa",
      "execution_count": null,
      "outputs": [
        {
          "output_type": "stream",
          "name": "stdout",
          "text": [
            "/content\n"
          ]
        }
      ]
    },
    {
      "cell_type": "code",
      "execution_count": null,
      "id": "37cc255f",
      "metadata": {
        "lines_to_next_cell": 2,
        "id": "37cc255f"
      },
      "outputs": [],
      "source": [
        "# Load JSON data\n",
        "file_path = 'qa_data.json'"
      ]
    },
    {
      "cell_type": "code",
      "source": [
        "with open(file_path, 'r', encoding='utf-8') as f:\n",
        "    qa_data = json.load(f)"
      ],
      "metadata": {
        "id": "orMVK60weVn7"
      },
      "id": "orMVK60weVn7",
      "execution_count": null,
      "outputs": []
    },
    {
      "cell_type": "markdown",
      "id": "12631bd0",
      "metadata": {
        "lines_to_next_cell": 2,
        "id": "12631bd0"
      },
      "source": [
        "### Create an instance of O1DataGene"
      ]
    },
    {
      "cell_type": "code",
      "execution_count": null,
      "id": "4fdb7792",
      "metadata": {
        "id": "4fdb7792"
      },
      "outputs": [],
      "source": [
        "# Create an instance of O1DataGene\n",
        "testo1 = O1DataGenerator(chat_agent, golden_answers=qa_data)"
      ]
    },
    {
      "cell_type": "code",
      "execution_count": null,
      "id": "23e2d5a8",
      "metadata": {
        "lines_to_next_cell": 2,
        "id": "23e2d5a8"
      },
      "outputs": [],
      "source": [
        "# Record generated answers\n",
        "generated_answers = {}"
      ]
    },
    {
      "cell_type": "markdown",
      "id": "6d92f64e",
      "metadata": {
        "id": "6d92f64e"
      },
      "source": [
        "### Test Q&A"
      ]
    },
    {
      "cell_type": "code",
      "execution_count": null,
      "id": "7fd7fe57",
      "metadata": {
        "lines_to_next_cell": 2,
        "colab": {
          "base_uri": "https://localhost:8080/"
        },
        "id": "7fd7fe57",
        "outputId": "a847b386-c8a7-4082-e7fb-82bc6585494d"
      },
      "outputs": [
        {
          "output_type": "stream",
          "name": "stdout",
          "text": [
            "Question: What is the coefficient of $x^2y^6$ in the expansion of $\\left(\\frac{3}{5}x-\\frac{y}{2}\\right)^8$?  Express your answer as a common fraction\n",
            "AI's thought process and answer:\n",
            "To find the coefficient of \\( x^2y^6 \\) in the expansion of \\( \\left(\\frac{3}{5}x - \\frac{y}{2}\\right)^8 \\), we can use the Binomial Theorem. The Binomial Theorem states that:\n",
            "\n",
            "\\[\n",
            "(a + b)^n = \\sum_{k=0}^{n} \\binom{n}{k} a^{n-k} b^k\n",
            "\\]\n",
            "\n",
            "In our case, we can identify \\( a = \\frac{3}{5}x \\), \\( b = -\\frac{y}{2} \\), and \\( n = 8 \\).\n",
            "\n",
            "### Step 1: Analyze the problem requirements\n",
            "We need to find the specific term in the expansion that contains \\( x^2y^6 \\). This means we are looking for the term where \\( x \\) has an exponent of 2 and \\( y \\) has an exponent of 6.\n",
            "\n",
            "### Step 2: List the steps to solve the problem\n",
            "1. Identify the general term in the binomial expansion.\n",
            "2. Set up the equation to find the specific values of \\( k \\) that give us \\( x^2 \\) and \\( y^6 \\).\n",
            "3. Calculate the coefficient for that term.\n",
            "4. Simplify the coefficient to express it as a common fraction.\n",
            "\n",
            "### Step 3: Execute the solution process\n",
            "1. **Identify the general term**: The general term in the expansion is given by:\n",
            "\n",
            "\\[\n",
            "T_k = \\binom{8}{k} \\left(\\frac{3}{5}x\\right)^{8-k} \\left(-\\frac{y}{2}\\right)^k\n",
            "\\]\n",
            "\n",
            "2. **Set up the equation**: We want the term where \\( x \\) has an exponent of 2 and \\( y \\) has an exponent of 6. This means:\n",
            "\n",
            "- The exponent of \\( x \\) is \\( 8 - k = 2 \\) which gives \\( k = 6 \\).\n",
            "- The exponent of \\( y \\) is \\( k = 6 \\).\n",
            "\n",
            "Thus, we will use \\( k = 6 \\).\n",
            "\n",
            "3. **Calculate the coefficient**: Substitute \\( k = 6 \\) into the general term:\n",
            "\n",
            "\\[\n",
            "T_6 = \\binom{8}{6} \\left(\\frac{3}{5}x\\right)^{2} \\left(-\\frac{y}{2}\\right)^{6}\n",
            "\\]\n",
            "\n",
            "Calculating each component:\n",
            "\n",
            "- The binomial coefficient:\n",
            "\n",
            "\\[\n",
            "\\binom{8}{6} = \\binom{8}{2} = \\frac{8 \\times 7}{2 \\times 1} = 28\n",
            "\\]\n",
            "\n",
            "- The \\( x^2 \\) term:\n",
            "\n",
            "\\[\n",
            "\\left(\\frac{3}{5}x\\right)^{2} = \\left(\\frac{3}{5}\\right)^{2} x^{2} = \\frac{9}{25} x^{2}\n",
            "\\]\n",
            "\n",
            "- The \\( y^6 \\) term:\n",
            "\n",
            "\\[\n",
            "\\left(-\\frac{y}{2}\\right)^{6} = \\left(-1\\right)^{6} \\left(\\frac{y}{2}\\right)^{6} = 1 \\cdot \\frac{y^6}{64} = \\frac{y^6}{64}\n",
            "\\]\n",
            "\n",
            "Now, combine these components to find \\( T_6 \\):\n",
            "\n",
            "\\[\n",
            "T_6 = 28 \\cdot \\frac{9}{25} \\cdot \\frac{y^6}{64} \\cdot x^2\n",
            "\\]\n",
            "\n",
            "4. **Combine the coefficients**:\n",
            "\n",
            "\\[\n",
            "T_6 = 28 \\cdot \\frac{9}{25} \\cdot \\frac{1}{64} \\cdot x^2 y^6\n",
            "\\]\n",
            "\n",
            "Calculating the coefficient:\n",
            "\n",
            "\\[\n",
            "\\text{Coefficient} = 28 \\cdot \\frac{9}{25} \\cdot \\frac{1}{64} = \\frac{28 \\cdot 9}{25 \\cdot 64}\n",
            "\\]\n",
            "\n",
            "Calculating \\( 28 \\cdot 9 = 252 \\):\n",
            "\n",
            "\\[\n",
            "\\text{Coefficient} = \\frac{252}{1600}\n",
            "\\]\n",
            "\n",
            "Now, simplify \\( \\frac{252}{1600} \\):\n",
            "\n",
            "The GCD of 252 and 1600 is 4:\n",
            "\n",
            "\\[\n",
            "\\frac{252 \\div 4}{1600 \\div 4} = \\frac{63}{400}\n",
            "\\]\n",
            "\n",
            "### Step 4: Provide the final answer\n",
            "Thus, the coefficient of \\( x^2y^6 \\) in the expansion of \\( \\left(\\frac{3}{5}x - \\frac{y}{2}\\right)^8 \\) is:\n",
            "\n",
            "\\[\n",
            "\\boxed{\\frac{63}{400}}\n",
            "\\]\n",
            "Answer verification result: Correct\n",
            "--------------------------------------------------\n",
            "\n",
            "Question: how many r in strawberry?\n",
            "AI's thought process and answer:\n",
            "To solve the problem of how many times the letter \"r\" appears in the word \"strawberry,\" we will follow the outlined requirements step by step.\n",
            "\n",
            "### Step 1: Analyze the Problem Requirements\n",
            "The problem requires us to determine the frequency of the letter \"r\" in the word \"strawberry.\" This involves:\n",
            "- Identifying the word we are analyzing.\n",
            "- Counting the occurrences of a specific letter within that word.\n",
            "\n",
            "### Step 2: List the Steps to Solve the Problem\n",
            "To solve this problem, we can break it down into the following steps:\n",
            "1. Identify the word we need to analyze.\n",
            "2. Initialize a counter to keep track of the occurrences of the letter \"r.\"\n",
            "3. Loop through each letter in the word and check if it is \"r.\"\n",
            "4. If it is \"r,\" increment the counter.\n",
            "5. After checking all letters, return the final count.\n",
            "\n",
            "### Step 3: Execute the Solution Process\n",
            "Now, let's execute the steps we have outlined:\n",
            "\n",
            "1. **Identify the word**: The word we are analyzing is \"strawberry.\"\n",
            "2. **Initialize a counter**: We will set a counter variable, `count_r`, to 0.\n",
            "3. **Loop through each letter**: We will examine each letter in \"strawberry\":\n",
            "   - The letters in \"strawberry\" are: s, t, r, a, w, b, e, r, r, y.\n",
            "4. **Check for \"r\"**:\n",
            "   - s: not \"r\"\n",
            "   - t: not \"r\"\n",
            "   - r: is \"r\" → increment `count_r` to 1\n",
            "   - a: not \"r\"\n",
            "   - w: not \"r\"\n",
            "   - b: not \"r\"\n",
            "   - e: not \"r\"\n",
            "   - r: is \"r\" → increment `count_r` to 2\n",
            "   - r: is \"r\" → increment `count_r` to 3\n",
            "   - y: not \"r\"\n",
            "5. **Final Count**: After checking all letters, `count_r` equals 3.\n",
            "\n",
            "### Step 4: Provide the Final Answer\n",
            "The final answer to the question \"how many r in strawberry?\" is **3**.\n",
            "\n",
            "### Summary of Thought Process\n",
            "- We started by clearly defining the problem and what was required.\n",
            "- We broke down the solution into manageable steps, ensuring we covered all necessary actions.\n",
            "- We executed the steps methodically, keeping track of our findings.\n",
            "- Finally, we summarized our results to provide a clear and concise answer.\n",
            "Answer verification result: Correct\n",
            "--------------------------------------------------\n",
            "\n"
          ]
        }
      ],
      "source": [
        "# Test Q&A\n",
        "for question in qa_data.keys():\n",
        "    print(f\"Question: {question}\")\n",
        "\n",
        "    # Get AI's thought process and answer\n",
        "    answer = testo1.get_answer(question)\n",
        "    generated_answers[question] = answer\n",
        "    print(f\"AI's thought process and answer:\\n{answer}\")\n",
        "\n",
        "    # Verify the answer\n",
        "    is_correct = testo1.verify_answer(question, answer)\n",
        "    print(f\"Answer verification result: {'Correct' if is_correct else 'Incorrect'}\")\n",
        "    print(\"-\" * 50)\n",
        "    print()  # Add a new line at the end of each iteration"
      ]
    },
    {
      "cell_type": "markdown",
      "id": "8b35c0e9",
      "metadata": {
        "lines_to_next_cell": 2,
        "id": "8b35c0e9"
      },
      "source": [
        "### Export the generated answers to a JSON file\n"
      ]
    },
    {
      "cell_type": "code",
      "execution_count": null,
      "id": "d47d8529",
      "metadata": {
        "lines_to_next_cell": 2,
        "colab": {
          "base_uri": "https://localhost:8080/"
        },
        "id": "d47d8529",
        "outputId": "5e698979-a3f9-4866-baeb-76132972ae11"
      },
      "outputs": [
        {
          "output_type": "stream",
          "name": "stdout",
          "text": [
            "The generated answers have been exported to: generated_answers_20241224_131157.json\n"
          ]
        }
      ],
      "source": [
        "simplified_output = {\n",
        "    'timestamp': datetime.now().isoformat(),\n",
        "    'qa_pairs': generated_answers\n",
        "}\n",
        "simplified_file = f'generated_answers_{datetime.now().strftime(\"%Y%m%d_%H%M%S\")}.json'\n",
        "with open(simplified_file, 'w', encoding='utf-8') as f:\n",
        "    json.dump(simplified_output, f, ensure_ascii=False, indent=2)\n",
        "print(f\"The generated answers have been exported to: {simplified_file}\")"
      ]
    },
    {
      "cell_type": "markdown",
      "source": [
        "Convert the o1 data into the SFT-compliant alpaca training data format"
      ],
      "metadata": {
        "id": "riC_gYznYFN6"
      },
      "id": "riC_gYznYFN6"
    },
    {
      "cell_type": "code",
      "execution_count": null,
      "id": "2ef8dfbc",
      "metadata": {
        "id": "2ef8dfbc"
      },
      "outputs": [],
      "source": [
        "import json\n",
        "from datetime import datetime\n",
        "\n",
        "\n",
        "def transform_qa_format(input_file):\n",
        "    # Read the input JSON file\n",
        "    with open(input_file, 'r', encoding='utf-8') as f:\n",
        "        data = json.load(f)\n",
        "\n",
        "    # Transform the data\n",
        "    transformed_data = []\n",
        "    for question, answer in data['qa_pairs'].items():\n",
        "        transformed_pair = {\n",
        "            \"instruction\": question,\n",
        "            \"input\": \"\",\n",
        "            \"output\": answer\n",
        "        }\n",
        "        transformed_data.append(transformed_pair)\n",
        "\n",
        "    # Generate output filename with timestamp\n",
        "    timestamp = datetime.now().strftime(\"%Y%m%d_%H%M%S\")\n",
        "    output_file = f'transformed_qa_{timestamp}.json'\n",
        "\n",
        "    # Write the transformed data\n",
        "    with open(output_file, 'w', encoding='utf-8') as f:\n",
        "        json.dump(transformed_data, f, ensure_ascii=False, indent=2)\n",
        "\n",
        "    return output_file, transformed_data"
      ]
    },
    {
      "cell_type": "code",
      "execution_count": null,
      "id": "a83515f3",
      "metadata": {
        "colab": {
          "base_uri": "https://localhost:8080/"
        },
        "id": "a83515f3",
        "outputId": "d2203e49-87ba-4498-ef4c-b2aa21dc6e57"
      },
      "outputs": [
        {
          "output_type": "stream",
          "name": "stdout",
          "text": [
            "Transformation complete. Output saved to: transformed_qa_20241224_131203.json\n"
          ]
        }
      ],
      "source": [
        "output_file, transformed_data = transform_qa_format(simplified_file)\n",
        "print(f\"Transformation complete. Output saved to: {output_file}\")"
      ]
    },
    {
      "cell_type": "markdown",
      "source": [
        "# upload the data to the huggingface"
      ],
      "metadata": {
        "id": "lK8qEmdGYUeX"
      },
      "id": "lK8qEmdGYUeX"
    },
    {
      "cell_type": "code",
      "execution_count": null,
      "id": "68acab9c",
      "metadata": {
        "id": "68acab9c"
      },
      "outputs": [],
      "source": [
        "from camel.datahubs.huggingface import HuggingFaceDatasetManager\n",
        "from camel.datahubs.models import Record\n",
        "def upload_to_huggingface(transformed_data, username, dataset_name=None):\n",
        "    manager = HuggingFaceDatasetManager()\n",
        "\n",
        "    if dataset_name is None:\n",
        "        dataset_name = f\"{username}/qa-dataset-{datetime.now().strftime('%Y%m%d')}\"\n",
        "    else:\n",
        "        dataset_name = f\"{username}/{dataset_name}\"\n",
        "\n",
        "    # Create dataset\n",
        "    print(f\"Creating dataset: {dataset_name}\")\n",
        "    dataset_url = manager.create_dataset(name=dataset_name)\n",
        "    print(f\"Dataset created: {dataset_url}\")\n",
        "\n",
        "    # Create dataset card\n",
        "    print(\"Creating dataset card...\")\n",
        "    manager.create_dataset_card(\n",
        "        dataset_name=dataset_name,\n",
        "        description=\"Question-Answer dataset generated by CAMEL O1DataGene\",\n",
        "        license=\"mit\",\n",
        "        language=[\"en\"],\n",
        "        size_category=\"<1MB\",\n",
        "        version=\"0.1.0\",\n",
        "        tags=[\"camel\", \"question-answering\"],\n",
        "        task_categories=[\"question-answering\"],\n",
        "        authors=[username]\n",
        "    )\n",
        "    print(\"Dataset card created successfully.\")\n",
        "\n",
        "    # Create Record objects with user's key-value pairs directly\n",
        "    records = []\n",
        "    for item in transformed_data:\n",
        "        record = Record(**item)  # Use the user's key-value pair directly as the field of Record\n",
        "        records.append(record)\n",
        "\n",
        "    # Add records\n",
        "    print(\"Adding records to the dataset...\")\n",
        "    manager.add_records(dataset_name=dataset_name, records=records)\n",
        "    print(\"Records added successfully.\")\n",
        "\n",
        "    return dataset_url"
      ]
    },
    {
      "cell_type": "code",
      "source": [
        "from camel.datahubs.huggingface import HuggingFaceDatasetManager\n",
        "from camel.datahubs.models import Record\n",
        "from datetime import datetime\n",
        "\n",
        "def upload_to_huggingface(transformed_data, username, dataset_name=None):\n",
        "    # Initialize the HuggingFaceDatasetManager\n",
        "    manager = HuggingFaceDatasetManager()\n",
        "\n",
        "    # Generate or validate the dataset name\n",
        "    dataset_name = generate_or_validate_dataset_name(username, dataset_name)\n",
        "\n",
        "    # Create the dataset on HuggingFace\n",
        "    dataset_url = create_dataset(manager, dataset_name)\n",
        "\n",
        "    # Create the dataset card with metadata\n",
        "    create_dataset_card(manager, dataset_name, username)\n",
        "\n",
        "    # Convert transformed data into Record objects\n",
        "    records = create_records(transformed_data)\n",
        "\n",
        "    # Add the records to the dataset\n",
        "    add_records_to_dataset(manager, dataset_name, records)\n",
        "\n",
        "    return dataset_url\n",
        "\n",
        "def generate_or_validate_dataset_name(username, dataset_name):\n",
        "    r\"\"\"Generate a dataset name if not provided, or validate and format the provided name.\n",
        "    \"\"\"\n",
        "    if dataset_name is None:\n",
        "        dataset_name = f\"{username}/qa-dataset-{datetime.now().strftime('%Y%m%d')}\"\n",
        "    else:\n",
        "        dataset_name = f\"{username}/{dataset_name}\"\n",
        "    return dataset_name\n",
        "\n",
        "def create_dataset(manager, dataset_name):\n",
        "    r\"\"\"Create a new dataset on HuggingFace and return the dataset URL.\n",
        "    \"\"\"\n",
        "    print(f\"Creating dataset: {dataset_name}\")\n",
        "    dataset_url = manager.create_dataset(name=dataset_name)\n",
        "    print(f\"Dataset created: {dataset_url}\")\n",
        "    return dataset_url\n",
        "\n",
        "def create_dataset_card(manager, dataset_name, username):\n",
        "    r\"\"\"Create a dataset card with metadata for the dataset.\n",
        "    \"\"\"\n",
        "    print(\"Creating dataset card...\")\n",
        "    manager.create_dataset_card(\n",
        "        dataset_name=dataset_name,\n",
        "        description=\"Question-Answer dataset generated by CAMEL O1DataGene\",\n",
        "        license=\"mit\",\n",
        "        language=[\"en\"],\n",
        "        size_category=\"<1MB\",\n",
        "        version=\"0.1.0\",\n",
        "        tags=[\"camel\", \"question-answering\"],\n",
        "        task_categories=[\"question-answering\"],\n",
        "        authors=[username]\n",
        "    )\n",
        "    print(\"Dataset card created successfully.\")\n",
        "\n",
        "def create_records(transformed_data):\n",
        "    r\"\"\"Convert the transformed data into Record objects.\n",
        "    \"\"\"\n",
        "    records = []\n",
        "    for item in transformed_data:\n",
        "        record = Record(**item)  # Use the user's key-value pair directly as the field of Record\n",
        "        records.append(record)\n",
        "    return records\n",
        "\n",
        "def add_records_to_dataset(manager, dataset_name, records):\n",
        "    r\"\"\"Add the list of Record objects to the dataset.\n",
        "    \"\"\"\n",
        "    print(\"Adding records to the dataset...\")\n",
        "    manager.add_records(dataset_name=dataset_name, records=records)\n",
        "    print(\"Records added successfully.\")"
      ],
      "metadata": {
        "id": "5TYOIiF3yQZC"
      },
      "id": "5TYOIiF3yQZC",
      "execution_count": null,
      "outputs": []
    },
    {
      "cell_type": "markdown",
      "source": [
        "# config the access token of huggingface"
      ],
      "metadata": {
        "id": "TrxbW2_bY0im"
      },
      "id": "TrxbW2_bY0im"
    },
    {
      "cell_type": "markdown",
      "source": [
        "You can go to [here](https://huggingface.co/settings/tokens) to get API Key from Huggingface"
      ],
      "metadata": {
        "id": "L3dwOEvrLoIV"
      },
      "id": "L3dwOEvrLoIV"
    },
    {
      "cell_type": "code",
      "source": [
        "HUGGING_FACE_TOKEN = getpass('Enter your HUGGING_FACE_TOKEN: ')\n",
        "os.environ[\"HUGGING_FACE_TOKEN\"] = HUGGING_FACE_TOKEN"
      ],
      "metadata": {
        "colab": {
          "base_uri": "https://localhost:8080/"
        },
        "id": "_QHHkipbY7kJ",
        "outputId": "4f238ac9-ba4c-496c-a688-bef4a0a1cd91"
      },
      "id": "_QHHkipbY7kJ",
      "execution_count": null,
      "outputs": [
        {
          "name": "stdout",
          "output_type": "stream",
          "text": [
            "Enter your HUGGING_FACE_TOKEN: ··········\n"
          ]
        }
      ]
    },
    {
      "cell_type": "code",
      "execution_count": null,
      "id": "e84fb857",
      "metadata": {
        "colab": {
          "base_uri": "https://localhost:8080/"
        },
        "id": "e84fb857",
        "outputId": "66ecaa1f-d791-47c3-a276-5e5e665b7025"
      },
      "outputs": [
        {
          "output_type": "stream",
          "name": "stdout",
          "text": [
            "Enter your HuggingFace username: zjrwtxtechstudio\n",
            "Enter dataset name (press Enter to use default): o1data26\n",
            "Creating dataset: zjrwtxtechstudio/o1data26\n",
            "Dataset created: https://huggingface.co/datasets/zjrwtxtechstudio/o1data26\n",
            "Creating dataset card...\n",
            "Dataset card created successfully.\n",
            "Adding records to the dataset...\n",
            "Records added successfully.\n",
            "\n",
            "Data successfully uploaded to HuggingFace!\n",
            "Dataset URL: https://huggingface.co/datasets/zjrwtxtechstudio/o1data26\n"
          ]
        }
      ],
      "source": [
        "# Set your personal huggingface config, then upload to HuggingFace\n",
        "username = input(\"Enter your HuggingFace username: \")\n",
        "dataset_name = input(\"Enter dataset name (press Enter to use default): \").strip()\n",
        "if not dataset_name:\n",
        "    dataset_name = None\n",
        "\n",
        "try:\n",
        "    dataset_url = upload_to_huggingface(transformed_data, username, dataset_name)\n",
        "    print(f\"\\nData successfully uploaded to HuggingFace!\")\n",
        "    print(f\"Dataset URL: {dataset_url}\")\n",
        "except Exception as e:\n",
        "    print(f\"Error uploading to HuggingFace: {str(e)}\")\n"
      ]
    },
    {
      "cell_type": "markdown",
      "source": [
        "### Summary:\n",
        "\n",
        "This cookbook demonstrates the process of using **CAMEL's O1DataGenerator** to create high-quality question-answer pairs, similar to o1 thinking data. The notebook covers the following steps:\n",
        "\n",
        "1. **Setup**: Installation of the `camel-ai` library and configuration of the OpenAI API key.\n",
        "2. **Data Generation**: Utilization of the `O1DataGenerator` to generate answers for predefined questions using llm model.\n",
        "3. **Data Transformation**: Conversion of the generated Q&A data into a format compliant with the Alpaca training data schema.\n",
        "4. **Upload to Hugging Face**: Integration with Hugging Face to upload the transformed dataset, including the creation of a dataset card and metadata.\n",
        "\n",
        "The cookbook also includes detailed instructions for setting up the environment, handling API keys, and configuring the Hugging Face dataset upload process. The final output is a dataset uploaded to Hugging Face, ready for sharing and further use in AI training tasks."
      ],
      "metadata": {
        "id": "-qsPHvwW6oW3"
      },
      "id": "-qsPHvwW6oW3"
    },
    {
      "cell_type": "markdown",
      "source": [
        "⭐ **Star the Repo**\n",
        "\n",
        "If you find CAMEL useful or interesting, please consider giving it a star on [GitHub](https://github.com/camel-ai/camel)! Your stars help others find this project and motivate us to continue improving it."
      ],
      "metadata": {
        "id": "cGoeNB1X7Qv2"
      },
      "id": "cGoeNB1X7Qv2"
    }
  ],
  "metadata": {
    "jupytext": {
      "cell_metadata_filter": "-all",
      "main_language": "python",
      "notebook_metadata_filter": "-all"
    },
    "kernelspec": {
      "display_name": "Python 3",
      "name": "python3"
    },
    "language_info": {
      "codemirror_mode": {
        "name": "ipython",
        "version": 3
      },
      "file_extension": ".py",
      "mimetype": "text/x-python",
      "name": "python",
      "nbconvert_exporter": "python",
      "pygments_lexer": "ipython3",
      "version": "3.11.5"
    },
    "colab": {
      "provenance": [],
      "gpuType": "T4"
    },
    "accelerator": "GPU"
  },
  "nbformat": 4,
  "nbformat_minor": 5
}