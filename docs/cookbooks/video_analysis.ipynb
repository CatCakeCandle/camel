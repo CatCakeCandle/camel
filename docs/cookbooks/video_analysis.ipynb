{
  "cells": [
    {
      "attachments": {},
      "cell_type": "markdown",
      "metadata": {},
      "source": [
        "# 🐫 CAMEL Video Analysis"
      ]
    },
    {
      "cell_type": "code",
      "execution_count": null,
      "metadata": {},
      "outputs": [],
      "source": [
        "!pip install camel-ai[all]==0.1.6.4"
      ]
    },
    {
      "cell_type": "code",
      "execution_count": 1,
      "metadata": {
        "colab": {
          "base_uri": "https://localhost:8080/"
        },
        "id": "_-8_5_srcpC_",
        "outputId": "bf152265-41b5-40f6-eff6-7b06b16aa534"
      },
      "outputs": [],
      "source": [
        "import os\n",
        "from getpass import getpass\n",
        "\n",
        "# Prompt for the API key securely\n",
        "openai_api_key = getpass('Enter your API key: ')\n",
        "os.environ[\"OPENAI_API_KEY\"] = openai_api_key"
      ]
    },
    {
      "cell_type": "code",
      "execution_count": 2,
      "metadata": {
        "id": "J97N3GtSexwu"
      },
      "outputs": [],
      "source": [
        "from camel.agents import ChatAgent\n",
        "from camel.configs.openai_config import ChatGPTConfig\n",
        "from camel.messages import BaseMessage\n",
        "from camel.prompts.prompt_templates import PromptTemplateGenerator\n",
        "from camel.types import ModelType, ModelPlatformType\n",
        "from camel.types.enums import RoleType, TaskType\n",
        "from camel.models import ModelFactory\n",
        "\n",
        "# Define system message\n",
        "sys_msg_prompt = PromptTemplateGenerator().get_prompt_from_key(\n",
        "    TaskType.VIDEO_DESCRIPTION, RoleType.ASSISTANT\n",
        ")\n",
        "sys_msg = BaseMessage.make_assistant_message(\n",
        "    role_name=\"Assistant\",\n",
        "    content=sys_msg_prompt,\n",
        ")\n",
        "\n",
        "# Set model\n",
        "model=ModelFactory.create(\n",
        "    model_platform=ModelPlatformType.OPENAI,\n",
        "    model_type=ModelType.GPT_4O,\n",
        "    model_config_dict=ChatGPTConfig().as_dict(),\n",
        ")\n",
        "\n",
        "# Set agent\n",
        "camel_agent = ChatAgent(\n",
        "    sys_msg,\n",
        "    model=model\n",
        ")"
      ]
    },
    {
      "cell_type": "code",
      "execution_count": 3,
      "metadata": {
        "colab": {
          "base_uri": "https://localhost:8080/"
        },
        "id": "cQIJBZh_YXRY",
        "outputId": "0766500d-171b-4b15-e98c-89821836d0c6"
      },
      "outputs": [
        {
          "ename": "FileNotFoundError",
          "evalue": "[Errno 2] No such file or directory: '/content/CCTV.mp4'",
          "output_type": "error",
          "traceback": [
            "\u001b[0;31m---------------------------------------------------------------------------\u001b[0m",
            "\u001b[0;31mFileNotFoundError\u001b[0m                         Traceback (most recent call last)",
            "Cell \u001b[0;32mIn[3], line 3\u001b[0m\n\u001b[1;32m      1\u001b[0m \u001b[38;5;66;03m# Provide your video path\u001b[39;00m\n\u001b[1;32m      2\u001b[0m video_cctv \u001b[38;5;241m=\u001b[39m \u001b[38;5;124m\"\u001b[39m\u001b[38;5;124m/content/CCTV.mp4\u001b[39m\u001b[38;5;124m\"\u001b[39m\n\u001b[0;32m----> 3\u001b[0m \u001b[38;5;28;01mwith\u001b[39;00m \u001b[38;5;28;43mopen\u001b[39;49m\u001b[43m(\u001b[49m\u001b[43mvideo_cctv\u001b[49m\u001b[43m,\u001b[49m\u001b[43m \u001b[49m\u001b[38;5;124;43m\"\u001b[39;49m\u001b[38;5;124;43mrb\u001b[39;49m\u001b[38;5;124;43m\"\u001b[39;49m\u001b[43m)\u001b[49m \u001b[38;5;28;01mas\u001b[39;00m video_cctv:\n\u001b[1;32m      4\u001b[0m     video_bytes_cctv \u001b[38;5;241m=\u001b[39m video_cctv\u001b[38;5;241m.\u001b[39mread()\n\u001b[1;32m      6\u001b[0m \u001b[38;5;66;03m# Set user message\u001b[39;00m\n",
            "File \u001b[0;32m~/Library/Caches/pypoetry/virtualenvs/camel-ai-8RlHKqzd-py3.11/lib/python3.11/site-packages/IPython/core/interactiveshell.py:324\u001b[0m, in \u001b[0;36m_modified_open\u001b[0;34m(file, *args, **kwargs)\u001b[0m\n\u001b[1;32m    317\u001b[0m \u001b[38;5;28;01mif\u001b[39;00m file \u001b[38;5;129;01min\u001b[39;00m {\u001b[38;5;241m0\u001b[39m, \u001b[38;5;241m1\u001b[39m, \u001b[38;5;241m2\u001b[39m}:\n\u001b[1;32m    318\u001b[0m     \u001b[38;5;28;01mraise\u001b[39;00m \u001b[38;5;167;01mValueError\u001b[39;00m(\n\u001b[1;32m    319\u001b[0m         \u001b[38;5;124mf\u001b[39m\u001b[38;5;124m\"\u001b[39m\u001b[38;5;124mIPython won\u001b[39m\u001b[38;5;124m'\u001b[39m\u001b[38;5;124mt let you open fd=\u001b[39m\u001b[38;5;132;01m{\u001b[39;00mfile\u001b[38;5;132;01m}\u001b[39;00m\u001b[38;5;124m by default \u001b[39m\u001b[38;5;124m\"\u001b[39m\n\u001b[1;32m    320\u001b[0m         \u001b[38;5;124m\"\u001b[39m\u001b[38;5;124mas it is likely to crash IPython. If you know what you are doing, \u001b[39m\u001b[38;5;124m\"\u001b[39m\n\u001b[1;32m    321\u001b[0m         \u001b[38;5;124m\"\u001b[39m\u001b[38;5;124myou can use builtins\u001b[39m\u001b[38;5;124m'\u001b[39m\u001b[38;5;124m open.\u001b[39m\u001b[38;5;124m\"\u001b[39m\n\u001b[1;32m    322\u001b[0m     )\n\u001b[0;32m--> 324\u001b[0m \u001b[38;5;28;01mreturn\u001b[39;00m \u001b[43mio_open\u001b[49m\u001b[43m(\u001b[49m\u001b[43mfile\u001b[49m\u001b[43m,\u001b[49m\u001b[43m \u001b[49m\u001b[38;5;241;43m*\u001b[39;49m\u001b[43margs\u001b[49m\u001b[43m,\u001b[49m\u001b[43m \u001b[49m\u001b[38;5;241;43m*\u001b[39;49m\u001b[38;5;241;43m*\u001b[39;49m\u001b[43mkwargs\u001b[49m\u001b[43m)\u001b[49m\n",
            "\u001b[0;31mFileNotFoundError\u001b[0m: [Errno 2] No such file or directory: '/content/CCTV.mp4'"
          ]
        }
      ],
      "source": [
        "# Provide your video path\n",
        "video_cctv = \"/content/CCTV.mp4\"\n",
        "with open(video_cctv, \"rb\") as video_cctv:\n",
        "    video_bytes_cctv = video_cctv.read()\n",
        "\n",
        "# Set user message\n",
        "user_msg_cctv = BaseMessage.make_user_message(\n",
        "    role_name=\"User\",\n",
        "    content=\"These are frames from a video that I want to upload. Generate a\"\n",
        "    \"compelling description that I can upload along with the video.\",\n",
        "    video_bytes=video_bytes_cctv,\n",
        ")\n",
        "\n",
        "# Get response information\n",
        "response_cctv = camel_agent.step(user_msg_cctv)\n",
        "print(response_cctv.msgs[0].content)"
      ]
    },
    {
      "cell_type": "code",
      "execution_count": null,
      "metadata": {
        "colab": {
          "base_uri": "https://localhost:8080/"
        },
        "id": "q7NIRGNT3bWx",
        "outputId": "84941af1-45b9-42bf-cc71-8da1fc9a620d"
      },
      "outputs": [
        {
          "name": "stdout",
          "output_type": "stream",
          "text": [
            "\"Embark on a breathtaking journey through lush, green landscapes and rugged mountain trails. This video captures the serene beauty of nature, with winding paths leading you through picturesque scenery under a vibrant blue sky. Perfect for nature lovers and adventure seekers alike, this visual escape will transport you to a tranquil world far from the hustle and bustle of everyday life. Join us as we explore the untouched beauty of this stunning trail.\"\n"
          ]
        }
      ],
      "source": [
        "# Provide your video path\n",
        "video_help = \"/content/help.mov\"\n",
        "with open(video_help, \"rb\") as video_help:\n",
        "    video_bytes_help = video_help.read()\n",
        "\n",
        "# Set user message\n",
        "user_msg_help = BaseMessage.make_user_message(\n",
        "    role_name=\"User\",\n",
        "    content=\"These are frames from a video that I want to upload. Generate a\"\n",
        "    \"compelling description that I can upload along with the video.\",\n",
        "    video_bytes=video_bytes_help,\n",
        ")\n",
        "\n",
        "# Get response information\n",
        "response_help = camel_agent.step(user_msg_help)\n",
        "print(response_help.msgs[0].content)"
      ]
    },
    {
      "cell_type": "code",
      "execution_count": null,
      "metadata": {
        "colab": {
          "base_uri": "https://localhost:8080/"
        },
        "id": "RdwfgT_S3uZ5",
        "outputId": "3c69323b-ad66-41c4-d700-232400535841"
      },
      "outputs": [
        {
          "name": "stdout",
          "output_type": "stream",
          "text": [
            "\"Join us for a candid glimpse into a moment of relaxation and reflection in the kitchen. Watch as our protagonist unwinds after a long day, savoring a drink and enjoying the simple pleasures of life. This video captures the essence of taking a break and finding comfort in familiar surroundings. Don't miss this relatable and heartwarming scene!\"\n"
          ]
        }
      ],
      "source": [
        "# Provide your video path\n",
        "video_content_mode = \"/content/content mod.mov\"\n",
        "with open(video_content_mode, \"rb\") as video_content_mode:\n",
        "    video_bytes_content_mode = video_content_mode.read()\n",
        "\n",
        "# Set user message\n",
        "user_msg_content_mode = BaseMessage.make_user_message(\n",
        "    role_name=\"User\",\n",
        "    content=\"These are frames from a video that I want to upload. Generate a\"\n",
        "    \"compelling description that I can upload along with the video.\",\n",
        "    video_bytes=video_bytes_content_mode,\n",
        ")\n",
        "\n",
        "# Get response information\n",
        "response_content_mode = camel_agent.step(user_msg_content_mode)\n",
        "print(response_content_mode.msgs[0].content)"
      ]
    }
  ],
  "metadata": {
    "colab": {
      "provenance": []
    },
    "kernelspec": {
      "display_name": "Python 3",
      "name": "python3"
    },
    "language_info": {
      "codemirror_mode": {
        "name": "ipython",
        "version": 3
      },
      "file_extension": ".py",
      "mimetype": "text/x-python",
      "name": "python",
      "nbconvert_exporter": "python",
      "pygments_lexer": "ipython3",
      "version": "3.11.5"
    }
  },
  "nbformat": 4,
  "nbformat_minor": 0
}
