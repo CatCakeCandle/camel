{
 "cells": [
  {
   "cell_type": "markdown",
   "metadata": {
    "id": "ymsq1Lw0VEqT"
   },
   "source": [
    "# 📊 Dynamic Knowledge Graph Construction with CAMEL\n",
    "\n",
    "This notebook demonstrates how to build a dynamic knowledge graph using CAMEL's Knowledge Graph Agent and Neo4j. The knowledge graph is constructed by parsing PDF documents, extracting entities and relationships, and storing them in a Neo4j database. The graph is then queried to retrieve time-based relationships.\n",
    "\n",
    "In this notebook, you'll explore:\n",
    "\n",
    "- **CAMEL**: A powerful multi-agent framework that enables the construction of knowledge graphs from unstructured data.\n",
    "- **Neo4j**: A graph database used to store and query the knowledge graph.\n",
    "- **Mistral and SambaVerse Models**: Large language models used to generate the knowledge graph from parsed documents.\n",
    "- **Deduplication**: Techniques to ensure the uniqueness of nodes and relationships in the graph.\n",
    "\n",
    "This setup not only demonstrates a practical application of AI-driven knowledge graph construction but also provides a flexible framework that can be adapted to other real-world scenarios requiring dynamic graph generation and querying."
   ]
  },
  {
   "cell_type": "markdown",
   "metadata": {
    "id": "0J0_iW-YVcq2"
   },
   "source": [
    "## 📦 Installation"
   ]
  },
  {
   "cell_type": "markdown",
   "metadata": {
    "id": "7p-JjpyNVcCT"
   },
   "source": [
    "First, install the CAMEL package with all its dependencies:"
   ]
  },
  {
   "cell_type": "code",
   "execution_count": null,
   "metadata": {
    "id": "0GXs2pruU9Vl"
   },
   "outputs": [],
   "source": [
    "!pip install \"camel-ai[all]==0.2.16\""
   ]
  },
  {
   "cell_type": "markdown",
   "metadata": {
    "id": "lfNvFbhD6o8B"
   },
   "source": [
    "## 🔑 Setting Up API Keys"
   ]
  },
  {
   "cell_type": "markdown",
   "metadata": {
    "id": "jqV12oQfQTyl"
   },
   "source": [
    "You'll need to set up your API keys for Mistral and SambaVerse. This ensures that the tools can interact with external services securely."
   ]
  },
  {
   "cell_type": "code",
   "execution_count": null,
   "metadata": {
    "colab": {
     "base_uri": "https://localhost:8080/"
    },
    "id": "Y8CJmIVEyGok",
    "outputId": "f6518528-49ef-4966-cced-670ec9b9cb47"
   },
   "outputs": [
    {
     "name": "stdout",
     "output_type": "stream",
     "text": [
      "Enter your Mistral API key: ··········\n",
      "Enter your SambaVerse API key: ··········\n"
     ]
    }
   ],
   "source": [
    "import os\n",
    "from getpass import getpass\n",
    "\n",
    "# Prompt for the Mistral API key securely\n",
    "mistral_api_key = getpass('Enter your Mistral API key: ')\n",
    "os.environ[\"MISTRAL_API_KEY\"] = mistral_api_key\n",
    "\n",
    "# Prompt for the SambaVerse API key securely\n",
    "sambaverse_api_key = getpass('Enter your SambaVerse API key: ')\n",
    "os.environ[\"SAMBA_API_KEY\"] = sambaverse_api_key"
   ]
  },
  {
   "cell_type": "markdown",
   "metadata": {
    "id": "czxWvnvnAimt"
   },
   "source": [
    "## 🛠️ Setting Up Neo4j"
   ]
  },
  {
   "cell_type": "markdown",
   "metadata": {
    "id": "wlNTpfRUxzis"
   },
   "source": [
    "To store and query the knowledge graph, you'll need a Neo4j instance. If you don't have one, you can set up a local instance or use a cloud service like Neo4j Aura.\n",
    "\n",
    "1. **Local Setup**: Download and install Neo4j Desktop from [here](https://neo4j.com/download/).\n",
    "2. **Cloud Setup**: Sign up for Neo4j Aura [here](https://neo4j.com/cloud/aura/).\n",
    "\n",
    "Once you have your Neo4j instance running, set up the connection details:"
   ]
  },
  {
   "cell_type": "code",
   "execution_count": null,
   "metadata": {
    "colab": {
     "base_uri": "https://localhost:8080/"
    },
    "id": "T0FBl1WF6jFs",
    "outputId": "486c1a66-7dce-484a-f372-d3df083e482a"
   },
   "outputs": [
    {
     "name": "stdout",
     "output_type": "stream",
     "text": [
      "Enter your Neo4j URI: bolt://localhost:7687\n",
      "Enter your Neo4j username: neo4j\n",
      "Enter your Neo4j password: ··········\n"
     ]
    }
   ],
   "source": [
    "neo4j_uri = input('Enter your Neo4j URI: ')\n",
    "neo4j_username = input('Enter your Neo4j username: ')\n",
    "neo4j_password = getpass('Enter your Neo4j password: ')\n",
    "\n",
    "os.environ[\"NEO4J_URI\"] = neo4j_uri\n",
    "os.environ[\"NEO4J_USERNAME\"] = neo4j_username\n",
    "os.environ[\"NEO4J_PASSWORD\"] = neo4j_password"
   ]
  },
  {
   "cell_type": "markdown",
   "metadata": {
    "id": "lij5h45Yw6R1"
   },
   "source": [
    "## 🧠 Setting Up the Knowledge Graph Agent"
   ]
  },
  {
   "cell_type": "markdown",
   "metadata": {
    "id": "2xM10-BCgPXf"
   },
   "source": [
    "We will use CAMEL's Knowledge Graph Agent to parse PDF documents, extract entities and relationships, and store them in the Neo4j database. The agent uses Mistral and SambaVerse models for graph generation."
   ]
  },
  {
   "cell_type": "code",
   "execution_count": null,
   "metadata": {
    "id": "H6q5xbQtajUj"
   },
   "outputs": [],
   "source": [
    "from camel.agents import KnowledgeGraphAgent\n",
    "from camel.models import ModelFactory\n",
    "from camel.storages import Neo4jGraph\n",
    "from camel.loaders import UnstructuredIO\n",
    "from camel.embeddings import MistralEmbedding\n",
    "from camel.configs import MistralConfig, SambaCloudAPIConfig\n",
    "from camel.types import ModelPlatformType, ModelType\n",
    "from tqdm import tqdm\n",
    "from pathlib import Path\n",
    "import time\n",
    "import camel.utils.kg_deduplication_utils as dedupe_util\n",
    "\n",
    "# Set up Neo4j connection\n",
    "neo4j_graph = Neo4jGraph(\n",
    "    url=os.environ[\"NEO4J_URI\"],\n",
    "    username=os.environ[\"NEO4J_USERNAME\"],\n",
    "    password=os.environ[\"NEO4J_PASSWORD\"],\n",
    ")\n",
    "\n",
    "# Clear the Neo4j database before starting\n",
    "print(\"Clearing Neo4j database...\")\n",
    "neo4j_graph.query(\"MATCH (n) DETACH DELETE n\")\n",
    "print(\"✅ Neo4j database cleared successfully.\")\n",
    "\n",
    "# Set up Mistral Large 2 model\n",
    "mistral_large_2 = ModelFactory.create(\n",
    "    model_platform=ModelPlatformType.MISTRAL,\n",
    "    model_type=ModelType.MISTRAL_LARGE,\n",
    "    model_config_dict=MistralConfig(temperature=0.2).as_dict(),\n",
    ")\n",
    "\n",
    "# Use Samba Verse model\n",
    "sambaverse_api_model = ModelFactory.create(\n",
    "    model_platform=ModelPlatformType.SAMBA,\n",
    "    model_type=\"Meta-Llama-3.1-405B-Instruct\",\n",
    "    model_config_dict=SambaCloudAPIConfig(max_tokens=2048).as_dict(),\n",
    "    api_key=os.environ[\"SAMBA_API_KEY\"],\n",
    "    url=\"https://api.sambanova.ai/v1\",\n",
    ")\n",
    "\n",
    "# Set up the example files\n",
    "example_file_dir = Path(\"pdf\")\n",
    "assert example_file_dir.exists(), \"Please set the correct path to the example pdf files.\"\n",
    "\n",
    "example_pdf_files = list(example_file_dir.glob(\"*.pdf\"))\n",
    "print(f\"Found {len(example_pdf_files)} PDF files.\")\n",
    "\n",
    "# UnstructuredIO is a tool to parse and chunk the documents.\n",
    "uio = UnstructuredIO()\n",
    "\n",
    "# Mistral Large 2 is a model to generate the knowledge graph.\n",
    "mistral_kg_agent = KnowledgeGraphAgent(model=mistral_large_2)\n",
    "\n",
    "# Samba Verse model is a model to generate the knowledge graph.\n",
    "llama_405b_kg_agent = KnowledgeGraphAgent(model=sambaverse_api_model)"
   ]
  },
  {
   "cell_type": "markdown",
   "metadata": {
    "id": "OPr97YkP8yir"
   },
   "source": [
    "## 🏗️ Building the Knowledge Graph"
   ]
  },
  {
   "cell_type": "markdown",
   "metadata": {
    "id": "2xM10-BCgPXf"
   },
   "source": [
    "We will now parse the PDF files, extract entities and relationships, and store them in the Neo4j database. The process involves chunking the documents, generating graph elements, deduplicating nodes, and adding relationships to the graph."
   ]
  },
  {
   "cell_type": "code",
   "execution_count": null,
   "metadata": {
    "id": "ENfY2uoV8xh4"
   },
   "outputs": [],
   "source": [
    "import hashlib\n",
    "\n",
    "def normalize_name(name: str, max_length: int = 64) -> str:\n",
    "    \"\"\"Normalize the label name to comply with Neo4j's naming rules\"\"\"\n",
    "    # Remove special characters and replace spaces with underscores\n",
    "    normalized = \"\".join(c if c.isalnum() else \"_\" for c in name)\n",
    "    # Ensure it does not start with a digit\n",
    "    if normalized[0].isdigit():\n",
    "        normalized = \"id_\" + normalized\n",
    "    # Remove extra underscores\n",
    "    normalized = \"_\".join(filter(None, normalized.split(\"_\")))\n",
    "\n",
    "    # If the VID is too long, use a hash function to generate a fixed-length VID\n",
    "    if len(normalized) > max_length:\n",
    "        # Use the SHA-1 hash function to generate a fixed-length VID\n",
    "        hash_value = hashlib.sha1(normalized.encode()).hexdigest()\n",
    "        # Truncate to max_length\n",
    "        normalized = hash_value[:max_length]\n",
    "\n",
    "    return normalized\n",
    "\n",
    "for file in example_pdf_files:\n",
    "    elements = uio.parse_file_or_url(str(file))\n",
    "    chunk_elements = uio.chunk_elements(\n",
    "        elements, chunk_type=\"chunk_by_title\", max_characters=2048\n",
    "    )\n",
    "\n",
    "    for element in tqdm(chunk_elements):\n",
    "        graph_element = llama_405b_kg_agent.run(element, parse_graph_elements=True)\n",
    "\n",
    "        # Add processing logic to rename 'Date' type\n",
    "        for node in graph_element.nodes:\n",
    "            if node.type == \"Date\":\n",
    "                node.type = \"TimePoint\"  # or another name that is not a reserved keyword\n",
    "            elif node.type == \"{self.type}\":\n",
    "                node.type = \"Node\"  # Set default type\n",
    "            node.id = normalize_name(node.id, max_length=64)  # Ensure VID length does not exceed 64\n",
    "\n",
    "        # Generate embeddings for nodes\n",
    "        node_embeddings = dedupe_util.generate_node_embeddings(graph_element.nodes, MistralEmbedding())\n",
    "\n",
    "        # Perform internal deduplication\n",
    "        deduplication_result = dedupe_util.deduplicate_nodes_internally(\n",
    "            graph_element.nodes, node_embeddings, threshold=0.65\n",
    "        )\n",
    "\n",
    "        # Get unique nodes\n",
    "        unique_nodes = deduplication_result.unique_nodes\n",
    "        unique_node_ids = {node.id for node in unique_nodes}\n",
    "\n",
    "        # Filter relationships\n",
    "        unique_relationships = []\n",
    "        for rel in graph_element.relationships:\n",
    "            if rel.subj.id in unique_node_ids and rel.obj.id in unique_node_ids:\n",
    "                unique_relationships.append(rel)\n",
    "\n",
    "        # Add nodes in Neo4j after deduplication\n",
    "        for rel in unique_relationships:\n",
    "            current_time = time.strftime(\"%Y-%m-%dT%H:%M:%S\", time.localtime())\n",
    "            neo4j_graph.add_triplet(subj=rel.subj.id, obj=rel.obj.id, rel=rel.type, timestamp=current_time)\n",
    "    break"
   ]
  },
  {
   "cell_type": "markdown",
   "metadata": {
    "id": "Qub28k5cOLIJ"
   },
   "source": [
    "## 🔍 Querying the Knowledge Graph"
   ]
  },
  {
   "cell_type": "markdown",
   "metadata": {
    "id": "2xM10-BCgPXf"
   },
   "source": [
    "Now that the knowledge graph is built, we can query it to retrieve time-based relationships."
   ]
  },
  {
   "cell_type": "code",
   "execution_count": null,
   "metadata": {
    "id": "ENfY2uoV8xh4"
   },
   "outputs": [],
   "source": [
    "# Query all triplets\n",
    "all_triplets = neo4j_graph.get_triplet()\n",
    "if all_triplets:\n",
    "    for triplet in all_triplets:\n",
    "        print(f\"Subject: {triplet['subj']}, Object: {triplet['obj']}, Relationship: {triplet['rel']}, Timestamp: {triplet['timestamp']}\")\n",
    "else:\n",
    "    print(\"No triplets found in the database.\")"
   ]
  },
  {
   "cell_type": "markdown",
   "metadata": {
    "id": "5LS3u3aoQvru"
   },
   "source": [
    "## 🌟 Highlights"
   ]
  },
  {
   "cell_type": "markdown",
   "metadata": {
    "id": "xerDlirc1nx2"
   },
   "source": [
    "This notebook has guided you through setting up and running a dynamic knowledge graph construction workflow using CAMEL's Knowledge Graph Agent and Neo4j. You can adapt and expand this example for various other scenarios requiring dynamic graph generation and querying.\n",
    "\n",
    "Key tools utilized in this notebook include:\n",
    "\n",
    "- **CAMEL**: A powerful multi-agent framework that enables the construction of knowledge graphs from unstructured data.\n",
    "- **Neo4j**: A graph database used to store and query the knowledge graph.\n",
    "- **Mistral and SambaVerse Models**: Large language models used to generate the knowledge graph from parsed documents.\n",
    "- **Deduplication**: Techniques to ensure the uniqueness of nodes and relationships in the graph.\n",
    "\n",
    "This comprehensive setup allows you to adapt and expand the example for various scenarios requiring dynamic graph generation and querying."
   ]
  },
  {
   "cell_type": "markdown",
   "metadata": {
    "id": "s6Det-fcMb9A"
   },
   "source": [
    "<div class=\"align-center\">\n",
    "  <a href=\"https://www.camel-ai.org/\"><img src=\"https://i.postimg.cc/KzQ5rfBC/button.png\"width=\"150\"></a>\n",
    "  <a href=\"https://discord.camel-ai.org\"><img src=\"https://i.postimg.cc/L4wPdG9N/join-2.png\"  width=\"150\"></a></a>\n",
    "  \n",
    "⭐ <i>Star us on [*Github*](https://github.com/camel-ai/camel), join our [*Discord*](https://discord.camel-ai.org) or follow our [*X*](https://x.com/camelaiorg)\n",
    "</div>"
   ]
  }
 ],
 "metadata": {
  "colab": {
   "provenance": []
  },
  "kernelspec": {
   "display_name": "Python 3",
   "name": "python3"
  },
  "language_info": {
   "name": "python",
   "version": "3.10.14"
  }
 },
 "nbformat": 4,
 "nbformat_minor": 0
}
