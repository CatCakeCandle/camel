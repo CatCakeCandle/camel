{
  "nbformat": 4,
  "nbformat_minor": 0,
  "metadata": {
    "colab": {
      "provenance": []
    },
    "kernelspec": {
      "name": "python3",
      "display_name": "Python 3"
    },
    "language_info": {
      "name": "python"
    }
  },
  "cells": [
    {
      "cell_type": "code",
      "execution_count": null,
      "metadata": {
        "id": "aueniP_sY05P"
      },
      "outputs": [],
      "source": []
    },
    {
      "cell_type": "code",
      "source": [],
      "metadata": {
        "id": "IXs4owuKZVbA"
      },
      "execution_count": null,
      "outputs": []
    },
    {
      "cell_type": "markdown",
      "source": [
        "Self-Instruct"
      ],
      "metadata": {
        "id": "TsZhgFXSZdqo"
      }
    },
    {
      "cell_type": "code",
      "source": [],
      "metadata": {
        "id": "F-STu9EgZVlg"
      },
      "execution_count": null,
      "outputs": []
    },
    {
      "cell_type": "code",
      "source": [],
      "metadata": {
        "id": "SIVGqB_3ZVn3"
      },
      "execution_count": null,
      "outputs": []
    },
    {
      "cell_type": "markdown",
      "source": [
        "Evolve-Instruct"
      ],
      "metadata": {
        "id": "tLQ0C6E_ZeUU"
      }
    },
    {
      "cell_type": "code",
      "source": [],
      "metadata": {
        "id": "KcYTp6OQZVqJ"
      },
      "execution_count": null,
      "outputs": []
    }
  ]
}