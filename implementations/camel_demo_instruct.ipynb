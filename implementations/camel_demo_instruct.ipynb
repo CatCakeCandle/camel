{
  "cells": [
    {
      "cell_type": "code",
      "execution_count": null,
      "metadata": {
        "id": "IXs4owuKZVbA"
      },
      "outputs": [],
      "source": [
        "from synthetic_datagen.agent_systems.single_agent import SingleAgent\n",
        "from synthetic_datagen.method_factory import SyntheticDataGeneratorMethodType\n",
        "from synthetic_datagen.pipeline import DataGeneratorPipeline\n",
        "from synthetic_datagen.self_instruct.self_instruct_spec import SelfInstructSpec\n",
        "from synthetic_datagen.utils.seed_instruction import Instance, SeedInstruction"
      ]
    },
    {
      "cell_type": "markdown",
      "metadata": {
        "id": "TsZhgFXSZdqo"
      },
      "source": [
        "Self-Instruct"
      ]
    },
    {
      "cell_type": "code",
      "execution_count": null,
      "metadata": {},
      "outputs": [],
      "source": [
        "spec = SelfInstructSpec()\n",
        "spec.seed_instructions = [\n",
        "    SeedInstruction(\n",
        "        instruction=\"Is there anything I can eat for a breakfast that \"\n",
        "        \"doesn't include eggs, yet includes protein, and has\"\n",
        "        \" roughly 700-1000 calories?\",\n",
        "        instances=[\n",
        "            Instance(\n",
        "                \"\",\n",
        "                \"Yes, you can have 1 oatmeal banana protein shake and\"\n",
        "                \" 4 strips of bacon. The oatmeal banana protein shake may\"\n",
        "                \" contain 1/2 cup oatmeal, 60 grams whey protein powder,\"\n",
        "                \" 1/2 medium banana, 1tbsp flaxseed oil and 1/2 cup\"\n",
        "                \"water, totalling about 550 calories. \"\n",
        "                \"The 4 strips of bacon \"\n",
        "                \"contains about 200 calories.\",\n",
        "            )\n",
        "        ],\n",
        "    ),\n",
        "]\n"
      ]
    },
    {
      "cell_type": "code",
      "execution_count": null,
      "metadata": {
        "id": "F-STu9EgZVlg"
      },
      "outputs": [],
      "source": [
        "\n",
        "spec.agent_system = SingleAgent()\n",
        "generator = DataGeneratorPipeline(\n",
        "    spec,\n",
        "    SyntheticDataGeneratorMethodType.SELFINSTRUCT\n",
        ")\n",
        "generator.run_generate()\n"
      ]
    },
    {
      "cell_type": "code",
      "execution_count": null,
      "metadata": {
        "id": "SIVGqB_3ZVn3"
      },
      "outputs": [],
      "source": [
        "generator.run_curate()"
      ]
    },
    {
      "cell_type": "code",
      "execution_count": null,
      "metadata": {},
      "outputs": [],
      "source": [
        "generator.run_evaluate()"
      ]
    },
    {
      "cell_type": "markdown",
      "metadata": {
        "id": "tLQ0C6E_ZeUU"
      },
      "source": [
        "Evolve-Instruct"
      ]
    },
    {
      "cell_type": "code",
      "execution_count": null,
      "metadata": {
        "id": "KcYTp6OQZVqJ"
      },
      "outputs": [],
      "source": []
    }
  ],
  "metadata": {
    "colab": {
      "provenance": []
    },
    "kernelspec": {
      "display_name": "Python 3",
      "name": "python3"
    },
    "language_info": {
      "codemirror_mode": {
        "name": "ipython",
        "version": 3
      },
      "file_extension": ".py",
      "mimetype": "text/x-python",
      "name": "python",
      "nbconvert_exporter": "python",
      "pygments_lexer": "ipython3",
      "version": "3.10.2"
    }
  },
  "nbformat": 4,
  "nbformat_minor": 0
}
