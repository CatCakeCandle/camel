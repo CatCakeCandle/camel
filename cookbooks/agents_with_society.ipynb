{
 "cells": [
  {
   "cell_type": "markdown",
   "metadata": {},
   "source": [
    "# 🐫 CAMEL Tools Cookbook"
   ]
  },
  {
   "cell_type": "markdown",
   "metadata": {},
   "source": [
    "You can also check this cookbook in colab [here]()"
   ]
  },
  {
   "cell_type": "markdown",
   "metadata": {},
   "source": [
    "## Society"
   ]
  },
  {
   "cell_type": "markdown",
   "metadata": {},
   "source": [
    "### 1. Concept"
   ]
  },
  {
   "cell_type": "markdown",
   "metadata": {},
   "source": [
    "The society module is one of the core modules of CAMEL. By simulating the information exchange process, this module studies the social behaviors among agents. \n",
    "\n",
    "Currently, the society module aims to enable agents to collaborate autonomously toward completing tasks while keeping consistent with human intentions and requiring minimal human intervention. It includes two frameworks: `Role-Playing` and `BabyAGI-Playing`, which are used to run the interaction behaviors of agents to achieve  objectives.\n",
    "\n",
    "Taking Role-Playing as an example, this framework was designed in an instruction-following manner. These roles independently undertake the responsibilities of executing and planning tasks, respectively. The dialogue is continuously advanced through a turn-taking mechanism, thereby collaborating to complete tasks. The main concepts include:\n",
    "\n",
    "Task: a task can be as simple as an idea, initialized by an inception prompt.\n",
    "\n",
    "AI User: the agent who is expected to provide instructions.\n",
    "\n",
    "AI Assistant: the agent who is expected to respond with solutions that fulfill the instructions."
   ]
  },
  {
   "cell_type": "markdown",
   "metadata": {},
   "source": [
    "### 2. Types"
   ]
  },
  {
   "cell_type": "markdown",
   "metadata": {},
   "source": [
    "#### 2.1 Role-Playing"
   ]
  },
  {
   "cell_type": "markdown",
   "metadata": {},
   "source": [
    "Role-Playing is a unique cooperative agent framework of CAMEL. Through this framework, agents in CAMEL overcome numerous challenges, such as *role flipping*, *assistant repeats instructions*, *flake replies*, *infinite loop of messages*, and *conversation termination conditions.*\n",
    "\n",
    "When using Role-Playing framework in CAMEL, predefined prompts are used to create unique initial settings for different agents. For example, if the user wants to initialize an assistant agent, the agent will be initialized with the following prompt."
   ]
  },
  {
   "cell_type": "markdown",
   "metadata": {},
   "source": [
    "\n",
    "- Never forget you are a <ASSISTANT_ROLE> and I am a <USER_ROLE>.\n",
    "\n",
    "    *This assigns the chosen role to the assistant agent and provides it with information about the user’s role.*\n",
    "- Never flip roles! Never instruct me!\n",
    "\n",
    "    *This prevents agents from flipping roles. In some cases, we have observed the assistant and the user switching roles, where the assistant suddenly takes control and instructs the user, and the user follows those instructions.*\n",
    "- You must decline my instruction honestly if you cannot perform the instruction due to physical, moral, legal reasons or your capability and explain the reasons.\n",
    "\n",
    "    *This prohibits the agent from producing harmful, false, illegal, and misleading information.*\n",
    "- Unless I say the task is completed, you should always start with: Solution: <YOUR_SOLUTION>. <YOUR_SOLUTION> should be specific, and provide preferable implementations and examples for task-solving.\n",
    "\n",
    "    *This encourages the assistant to always responds in a consistent format, avoiding any deviation from the structure of the conversation, and preventing vague or incomplete responses, which we refer to as flake responses, such as \"I will do something\".*\n",
    "- Always end your solution with: Next request.\n",
    "\n",
    "    *This ensures that the assistant keeps the conversation going by requesting a new instruction to solve.*"
   ]
  },
  {
   "cell_type": "markdown",
   "metadata": {},
   "source": [
    "#### Role-Playing Attributes"
   ]
  },
  {
   "cell_type": "markdown",
   "metadata": {},
   "source": [
    "\n",
    "| Attribute | Type | Description |\n",
    "| --- | --- | --- |\n",
    "| assistant_role_name | str | The name of the role played by the assistant. |\n",
    "| user_role_name | str | The name of the role played by the user. |\n",
    "| critic_role_name | str | The name of the role played by the critic. |\n",
    "| task_prompt | str | A prompt for the task to be performed. |\n",
    "| with_task_specify | bool | Whether to use a task specify agent. |\n",
    "|  with_task_planner | bool | Whether to use a task planner agent. |\n",
    "| with_critic_in_the_loop | bool | Whether to include a critic in the loop. |\n",
    "| critic_criteria | str | Critic criteria for the critic agent. |\n",
    "| model | BaseModelBackend | The model backend to use for generating responses.  |\n",
    "| task_type | TaskType | The type of task to perform. |\n",
    "| assistant_agent_kwargs | Dict | Additional arguments to pass to the assistant agent. |\n",
    "| user_agent_kwargs | Dict | Additional arguments to pass to the user agent. |\n",
    "| task_specify_agent_kwargs | Dict | Additional arguments to pass to the task specify agent. |\n",
    "| task_planner_agent_kwargs | Dict | Additional arguments to pass to the task planner agent. |\n",
    "| critic_kwargs | Dict | Additional arguments to pass to the critic. |\n",
    "| sys_msg_generator_kwargs | Dict | Additional arguments to pass to the system message generator. |\n",
    "| extend_sys_msg_meta_dicts | List[Dict] | A list of dicts to extend the system message meta dicts with. |\n",
    "| extend_task_specify_meta_dict | Dict | A dict to extend the task specify meta dict with. |\n",
    "| output_language | str | The language to be output by the agents. |"
   ]
  },
  {
   "cell_type": "markdown",
   "metadata": {},
   "source": [
    "### 2.2 BabyAGI-Playing"
   ]
  },
  {
   "cell_type": "markdown",
   "metadata": {},
   "source": [
    "Babyagi is framework from \"Task-driven Autonomous Agent\" <https://github.com/yoheinakajima/babyagi>`"
   ]
  },
  {
   "cell_type": "markdown",
   "metadata": {},
   "source": [
    "## 3. Get Started"
   ]
  },
  {
   "cell_type": "markdown",
   "metadata": {},
   "source": [
    "### 3.1. Using Role-Playing"
   ]
  },
  {
   "cell_type": "code",
   "execution_count": null,
   "metadata": {
    "vscode": {
     "languageId": "plaintext"
    }
   },
   "outputs": [],
   "source": [
    "from colorama import Fore\n",
    "\n",
    "from camel.societies import RolePlaying\n",
    "from camel.utils import print_text_animated"
   ]
  },
  {
   "cell_type": "code",
   "execution_count": null,
   "metadata": {
    "vscode": {
     "languageId": "plaintext"
    }
   },
   "outputs": [],
   "source": [
    "def main(model=None, chat_turn_limit=50) -> None:\n",
    "# initial the role-playing session on developing a trading bot task with default model (`GPT_4O_MINI`)\n",
    "    task_prompt = \"Develop a trading bot for the stock market\"\n",
    "    role_play_session = RolePlaying(\n",
    "        assistant_role_name=\"Python Programmer\",\n",
    "        assistant_agent_kwargs=dict(model=model),\n",
    "        user_role_name=\"Stock Trader\",\n",
    "        user_agent_kwargs=dict(model=model),\n",
    "        task_prompt=task_prompt,\n",
    "        with_task_specify=True,\n",
    "        task_specify_agent_kwargs=dict(model=model),\n",
    "    )\n",
    "\n",
    "# Output initial message with different colors.\n",
    "    print(\n",
    "        Fore.GREEN\n",
    "        + f\"AI Assistant sys message:\\n{role_play_session.assistant_sys_msg}\\n\"\n",
    "    )\n",
    "    print(\n",
    "        Fore.BLUE + f\"AI User sys message:\\n{role_play_session.user_sys_msg}\\n\"\n",
    "    )\n",
    "\n",
    "    print(Fore.YELLOW + f\"Original task prompt:\\n{task_prompt}\\n\")\n",
    "    print(\n",
    "        Fore.CYAN\n",
    "        + \"Specified task prompt:\"\n",
    "        + f\"\\n{role_play_session.specified_task_prompt}\\n\"\n",
    "    )\n",
    "    print(Fore.RED + f\"Final task prompt:\\n{role_play_session.task_prompt}\\n\")\n",
    "\n",
    "    n = 0\n",
    "    input_msg = role_play_session.init_chat()\n",
    "\n",
    "# Output response step by step with different colors.\n",
    "# Keep output until detect the terminate content or reach the loop limit.\n",
    "    while n < chat_turn_limit:\n",
    "        n += 1\n",
    "        assistant_response, user_response = role_play_session.step(input_msg)\n",
    "\n",
    "        if assistant_response.terminated:\n",
    "            print(\n",
    "                Fore.GREEN\n",
    "                + (\n",
    "                    \"AI Assistant terminated. Reason: \"\n",
    "                    f\"{assistant_response.info['termination_reasons']}.\"\n",
    "                )\n",
    "            )\n",
    "            break\n",
    "        if user_response.terminated:\n",
    "            print(\n",
    "                Fore.GREEN\n",
    "                + (\n",
    "                    \"AI User terminated. \"\n",
    "                    f\"Reason: {user_response.info['termination_reasons']}.\"\n",
    "                )\n",
    "            )\n",
    "            break\n",
    "\n",
    "        print_text_animated(\n",
    "            Fore.BLUE + f\"AI User:\\n\\n{user_response.msg.content}\\n\"\n",
    "        )\n",
    "        print_text_animated(\n",
    "            Fore.GREEN + \"AI Assistant:\\n\\n\"\n",
    "            f\"{assistant_response.msg.content}\\n\"\n",
    "        )\n",
    "\n",
    "        if \"CAMEL_TASK_DONE\" in user_response.msg.content:\n",
    "            break\n",
    "\n",
    "        input_msg = assistant_response.msg\n",
    "\n",
    "if __name__ == \"__main__\":\n",
    "    main()"
   ]
  }
 ],
 "metadata": {
  "language_info": {
   "name": "python"
  }
 },
 "nbformat": 4,
 "nbformat_minor": 2
}
